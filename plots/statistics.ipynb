{
 "cells": [
  {
   "cell_type": "code",
   "execution_count": 29,
   "id": "f16f6a8f",
   "metadata": {},
   "outputs": [],
   "source": [
    "import pandas as pd\n",
    "\n",
    "# CSV file will only be the sample measurements\n",
    "df = pd.read_csv('../data/detected_contacts.csv')"
   ]
  },
  {
   "cell_type": "code",
   "execution_count": 30,
   "id": "ede50134",
   "metadata": {},
   "outputs": [],
   "source": [
    "import numpy as np\n",
    "import scipy.stats\n",
    "\n",
    "def confidence_interval(values):\n",
    "    mean = np.mean(values)\n",
    "    std_dev = np.std(values)\n",
    "    n = len(values)\n",
    "    confidence_level = 0.95\n",
    "    z_score = scipy.stats.norm.ppf((1 + confidence_level) / 2)\n",
    "    margin_of_error = z_score * (std_dev / np.sqrt(n))\n",
    "    confidence_interval = (mean - margin_of_error, mean + margin_of_error)\n",
    "\n",
    "    return confidence_interval"
   ]
  },
  {
   "cell_type": "code",
   "execution_count": 31,
   "id": "f4f5a715",
   "metadata": {},
   "outputs": [
    {
     "data": {
      "text/html": [
       "<div>\n",
       "<style scoped>\n",
       "    .dataframe tbody tr th:only-of-type {\n",
       "        vertical-align: middle;\n",
       "    }\n",
       "\n",
       "    .dataframe tbody tr th {\n",
       "        vertical-align: top;\n",
       "    }\n",
       "\n",
       "    .dataframe thead th {\n",
       "        text-align: right;\n",
       "    }\n",
       "</style>\n",
       "<table border=\"1\" class=\"dataframe\">\n",
       "  <thead>\n",
       "    <tr style=\"text-align: right;\">\n",
       "      <th></th>\n",
       "      <th>rssi</th>\n",
       "      <th>delay</th>\n",
       "    </tr>\n",
       "  </thead>\n",
       "  <tbody>\n",
       "    <tr>\n",
       "      <th>min</th>\n",
       "      <td>-65</td>\n",
       "      <td>22.096168</td>\n",
       "    </tr>\n",
       "    <tr>\n",
       "      <th>max</th>\n",
       "      <td>-42</td>\n",
       "      <td>69.053477</td>\n",
       "    </tr>\n",
       "    <tr>\n",
       "      <th>mean</th>\n",
       "      <td>-47.822222</td>\n",
       "      <td>25.094345</td>\n",
       "    </tr>\n",
       "    <tr>\n",
       "      <th>median</th>\n",
       "      <td>-48.0</td>\n",
       "      <td>22.973924</td>\n",
       "    </tr>\n",
       "    <tr>\n",
       "      <th>std</th>\n",
       "      <td>4.113663</td>\n",
       "      <td>7.587504</td>\n",
       "    </tr>\n",
       "    <tr>\n",
       "      <th>confidence_interval</th>\n",
       "      <td>(-49.010698759671655, -46.63374568477279)</td>\n",
       "      <td>(22.902242525432378, 27.286447385678734)</td>\n",
       "    </tr>\n",
       "  </tbody>\n",
       "</table>\n",
       "</div>"
      ],
      "text/plain": [
       "                                                          rssi  \\\n",
       "min                                                        -65   \n",
       "max                                                        -42   \n",
       "mean                                                -47.822222   \n",
       "median                                                   -48.0   \n",
       "std                                                   4.113663   \n",
       "confidence_interval  (-49.010698759671655, -46.63374568477279)   \n",
       "\n",
       "                                                        delay  \n",
       "min                                                 22.096168  \n",
       "max                                                 69.053477  \n",
       "mean                                                25.094345  \n",
       "median                                              22.973924  \n",
       "std                                                  7.587504  \n",
       "confidence_interval  (22.902242525432378, 27.286447385678734)  "
      ]
     },
     "metadata": {},
     "output_type": "display_data"
    }
   ],
   "source": [
    "import numpy as np\n",
    "\n",
    "# Descriptive statistics: Mean, median, standard deviation for all quantitative metrics\n",
    "metrics = ['rssi', 'delay']\n",
    "functions = ['min', 'max', 'mean', 'median', 'std', confidence_interval]\n",
    "\n",
    "metrics_df = df[metrics]\n",
    "\n",
    "results = metrics_df.aggregate(functions)\n",
    "\n",
    "display(results)"
   ]
  },
  {
   "cell_type": "code",
   "execution_count": 32,
   "id": "62f7eb77",
   "metadata": {},
   "outputs": [
    {
     "name": "stderr",
     "output_type": "stream",
     "text": [
      "C:\\Users\\tsbh0\\AppData\\Local\\Temp\\ipykernel_13984\\531776679.py:21: FutureWarning: The default of observed=False is deprecated and will be changed to True in a future version of pandas. Pass observed=False to retain current behavior or observed=True to adopt the future default and silence this warning.\n",
      "  grouped = df.groupby(['minute_bin', 'sender_id']).size().unstack(fill_value=0)\n"
     ]
    },
    {
     "data": {
      "text/plain": [
       "min                                                       0\n",
       "max                                                       3\n",
       "mean                                                    2.5\n",
       "median                                                  3.0\n",
       "std                                                0.785905\n",
       "confidence_interval    (2.14716615661049, 2.85283384338951)\n",
       "dtype: object"
      ]
     },
     "metadata": {},
     "output_type": "display_data"
    },
    {
     "data": {
      "image/png": "[encoded data removed]",
      "text/plain": [
       "<Figure size 1400x600 with 1 Axes>"
      ]
     },
     "metadata": {},
     "output_type": "display_data"
    }
   ],
   "source": [
    "import matplotlib.pyplot as plt\n",
    "from datetime import datetime\n",
    "import pandas as pd\n",
    "import numpy as np\n",
    "\n",
    "\n",
    "def get_timestamp(date_string):\n",
    "    return int(datetime.strptime(date_string, '%Y-%m-%d %H:%M:%S').timestamp())\n",
    "\n",
    "df['server_timestamp'] = df['timestamp'].apply(get_timestamp)\n",
    "start = df['server_timestamp'].min()\n",
    "end = df['server_timestamp'].max()\n",
    "\n",
    "# Create time bins per minute\n",
    "bins = list(range(start, end + 60, 60))\n",
    "bin_labels = list(range(len(bins) - 1))\n",
    "\n",
    "# Bin data and group by sender\n",
    "df['minute_bin'] = pd.cut(df['server_timestamp'], bins=bins, labels=bin_labels, right=False)\n",
    "\n",
    "grouped = df.groupby(['minute_bin', 'sender_id']).size().unstack(fill_value=0)\n",
    "\n",
    "display(pd.Series(grouped.to_numpy().ravel()).aggregate(functions))\n",
    "\n",
    "# prepare data\n",
    "x = np.arange(len(grouped.index))\n",
    "width = 0.8 / len(grouped.columns)\n",
    "\n",
    "plt.figure(figsize=(14, 6))\n",
    "\n",
    "# Plot each sender's bar shifted horizontally\n",
    "for i, sender_id in enumerate(grouped.columns):\n",
    "    plt.bar(x + i * width, grouped[sender_id], width=width, label=f'Sender {sender_id}')\n",
    "\n",
    "plt.axhline(y = 6, color = 'red', linestyle='--', label='Theoretical Maximum')\n",
    "plt.xlabel('Minutes since start')\n",
    "plt.ylabel('Messages per minute')\n",
    "plt.title('Grouped Bar Chart: Messages per Minute per Sender')\n",
    "plt.xticks(x + width * (len(grouped.columns) - 1) / 2, grouped.index.astype(int))\n",
    "plt.legend()\n",
    "plt.grid(axis='y', linestyle='--', alpha=0.7)\n",
    "plt.tight_layout()\n",
    "plt.show()\n"
   ]
  },
  {
   "cell_type": "code",
   "execution_count": 33,
   "id": "6a45ba30",
   "metadata": {},
   "outputs": [
    {
     "name": "stdout",
     "output_type": "stream",
     "text": [
      "Pearson correlation coefficient: -0.90\n",
      "P-value: 3.6151e-12\n",
      "Result is  statistically significant (alpha = 0.05).\n"
     ]
    }
   ],
   "source": [
    "import pandas as pd\n",
    "from scipy.stats import pearsonr\n",
    "\n",
    "df = pd.read_csv('rssi_vs_distance.csv')\n",
    "\n",
    "df = df[['rssi', 'distance']].dropna()\n",
    "\n",
    "df['rssi'] = pd.to_numeric(df['rssi'], errors='coerce')\n",
    "df['distance'] = pd.to_numeric(df['distance'], errors='coerce')\n",
    "df = df.dropna()\n",
    "\n",
    "# Compute Pearson correlation coefficient and p-value\n",
    "r, p_value = pearsonr(df['rssi'], df['distance'])\n",
    "\n",
    "# Display results\n",
    "print(f\"Pearson correlation coefficient: {r:.2f}\")\n",
    "print(f\"P-value: {p_value:.4e}\")\n",
    "print(f\"Result is {'' if p_value < 0.05 else 'not'} statistically significant (alpha = 0.05).\")\n"
   ]
  }
 ],
 "metadata": {
  "kernelspec": {
   "display_name": "Python 3",
   "language": "python",
   "name": "python3"
  },
  "language_info": {
   "codemirror_mode": {
    "name": "ipython",
    "version": 3
   },
   "file_extension": ".py",
   "mimetype": "text/x-python",
   "name": "python",
   "nbconvert_exporter": "python",
   "pygments_lexer": "ipython3",
   "version": "3.9.13"
  }
 },
 "nbformat": 4,
 "nbformat_minor": 5
}
