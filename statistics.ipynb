{
 "cells": [
  {
   "cell_type": "code",
   "execution_count": 3,
   "id": "f16f6a8f",
   "metadata": {},
   "outputs": [],
   "source": [
    "import pandas as pd\n",
    "\n",
    "# CSV file will only be the sample measurements\n",
    "df = pd.read_csv('detected_contacts.csv')"
   ]
  },
  {
   "cell_type": "code",
   "execution_count": 4,
   "id": "ede50134",
   "metadata": {},
   "outputs": [],
   "source": [
    "import numpy as np\n",
    "import scipy.stats\n",
    "\n",
    "def confidence_interval(values):\n",
    "    mean = np.mean(values)\n",
    "    std_dev = np.std(values)\n",
    "    n = len(values)\n",
    "    confidence_level = 0.95\n",
    "    z_score = scipy.stats.norm.ppf((1 + confidence_level) / 2)\n",
    "    margin_of_error = z_score * (std_dev / np.sqrt(n))\n",
    "    confidence_interval = (mean - margin_of_error, mean + margin_of_error)\n",
    "\n",
    "    return confidence_interval"
   ]
  },
  {
   "cell_type": "code",
   "execution_count": 5,
   "id": "f4f5a715",
   "metadata": {},
   "outputs": [
    {
     "name": "stdout",
     "output_type": "stream",
     "text": [
      "                                                          rssi\n",
      "min                                                        -65\n",
      "max                                                        -42\n",
      "mean                                                -47.822222\n",
      "median                                                   -48.0\n",
      "std                                                   4.113663\n",
      "confidence_interval  (-49.010698759671655, -46.63374568477279)\n"
     ]
    }
   ],
   "source": [
    "import numpy as np\n",
    "\n",
    "# Descriptive statistics: Mean, median, standard deviation for all quantitative metrics\n",
    "metrics = ['rssi']\n",
    "aggregates = {\n",
    "    'rssi': ['min', 'max', 'mean', 'median', 'std', confidence_interval]\n",
    "}\n",
    "\n",
    "metrics_df = df[metrics]\n",
    "\n",
    "results = metrics_df.aggregate(aggregates)\n",
    "\n",
    "print(results)"
   ]
  },
  {
   "cell_type": "code",
   "execution_count": 6,
   "id": "6a45ba30",
   "metadata": {},
   "outputs": [
    {
     "name": "stdout",
     "output_type": "stream",
     "text": [
      "Pearson correlation coefficient: -0.90\n",
      "P-value: 3.6151e-12\n",
      "Result is  statistically significant (alpha = 0.05).\n"
     ]
    }
   ],
   "source": [
    "import pandas as pd\n",
    "from scipy.stats import pearsonr\n",
    "\n",
    "df = pd.read_csv('plots/rssi_vs_distance.csv')\n",
    "\n",
    "df = df[['rssi', 'distance']].dropna()\n",
    "\n",
    "df['rssi'] = pd.to_numeric(df['rssi'], errors='coerce')\n",
    "df['distance'] = pd.to_numeric(df['distance'], errors='coerce')\n",
    "df = df.dropna()\n",
    "\n",
    "# Compute Pearson correlation coefficient and p-value\n",
    "r, p_value = pearsonr(df['rssi'], df['distance'])\n",
    "\n",
    "# Display results\n",
    "print(f\"Pearson correlation coefficient: {r:.2f}\")\n",
    "print(f\"P-value: {p_value:.4e}\")\n",
    "print(f\"Result is {'' if p_value < 0.05 else 'not'} statistically significant (alpha = 0.05).\")\n"
   ]
  }
 ],
 "metadata": {
  "kernelspec": {
   "display_name": "env",
   "language": "python",
   "name": "python3"
  },
  "language_info": {
   "codemirror_mode": {
    "name": "ipython",
    "version": 3
   },
   "file_extension": ".py",
   "mimetype": "text/x-python",
   "name": "python",
   "nbconvert_exporter": "python",
   "pygments_lexer": "ipython3",
   "version": "3.12.3"
  }
 },
 "nbformat": 4,
 "nbformat_minor": 5
}
