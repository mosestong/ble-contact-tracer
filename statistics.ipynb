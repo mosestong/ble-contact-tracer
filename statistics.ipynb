{
 "cells": [
  {
   "cell_type": "code",
   "execution_count": null,
   "id": "f16f6a8f",
   "metadata": {},
   "outputs": [],
   "source": [
    "import csv\n",
    "\n",
    "# CSV file will only be the sample measurements taken at a given distance\n",
    "with open('log.csv', mode='r', newline='') as file:\n",
    "    reader = csv.DictReader(file)\n",
    "    data_dict = [row for row in reader]"
   ]
  },
  {
   "cell_type": "code",
   "execution_count": null,
   "id": "f4f5a715",
   "metadata": {},
   "outputs": [],
   "source": [
    "import numpy as np\n",
    "\n",
    "# Descriptive statistics: Mean, median, standard deviation for all quantitative metrics\n",
    "metrics = ['rssi', 'delivery rates', 'delays']\n",
    "\n",
    "for metric in metrics:\n",
    "    values = np.array([float(row[metric]) for row in data_dict if row[metric] != ''])\n",
    "    mean = np.mean(values)\n",
    "    median = np.median(values)\n",
    "    std_dev = np.std(values)\n",
    "    print(f\"{metric}: Mean={mean:.2f}, Median={median:.2f}, Std Dev={std_dev:.2f}\")"
   ]
  },
  {
   "cell_type": "code",
   "execution_count": null,
   "id": "eaa9cd0e",
   "metadata": {},
   "outputs": [],
   "source": [
    "import scipy.stats\n",
    "\n",
    "# 95% Confiedence intevals for all quantitative metrics\n",
    "for metric in metrics:\n",
    "    values = np.array([float(row[metric]) for row in data_dict if row[metric] != ''])\n",
    "    mean = np.mean(values)\n",
    "    std_dev = np.std(values)\n",
    "    n = len(values)\n",
    "    confidence_level = 0.95\n",
    "    z_score = scipy.stats.norm.ppf((1 + confidence_level) / 2)\n",
    "    margin_of_error = z_score * (std_dev / np.sqrt(n))\n",
    "    confidence_interval = (mean - margin_of_error, mean + margin_of_error)\n",
    "    print(f\"{metric} 95% Confidence Interval: {confidence_interval}\")"
   ]
  },
  {
   "cell_type": "code",
   "execution_count": null,
   "id": "6a45ba30",
   "metadata": {},
   "outputs": [],
   "source": [
    "# Correlation analysis: Pearson correlation coefficient between RSSI, delivery rates, and delays\n",
    "\n",
    "for i in range(len(metrics)):\n",
    "    for j in range(i + 1, len(metrics)):\n",
    "        metric1 = metrics[i]\n",
    "        metric2 = metrics[j]\n",
    "        values1 = np.array([float(row[metric1]) for row in data_dict if row[metric1] != ''])\n",
    "        values2 = np.array([float(row[metric2]) for row in data_dict if row[metric2] != ''])\n",
    "        correlation, _ = scipy.stats.pearsonr(values1, values2)\n",
    "        print(f\"Correlation between {metric1} and {metric2}: {correlation:.2f}\")"
   ]
  },
  {
   "cell_type": "code",
   "execution_count": null,
   "id": "697e07a6",
   "metadata": {},
   "outputs": [],
   "source": [
    "# Error Analysis: Quantify measurement uncertainty and error rates\n",
    "# Measured as the deviation from the expected value\n",
    "\n",
    "error_rates = []\n",
    "for row in data_dict:\n",
    "    if row['error_rate'] != '':\n",
    "        error_rates.append(float(row['error_rate']))\n"
   ]
  }
 ],
 "metadata": {
  "kernelspec": {
   "display_name": "env",
   "language": "python",
   "name": "python3"
  },
  "language_info": {
   "name": "python",
   "version": "3.12.3"
  }
 },
 "nbformat": 4,
 "nbformat_minor": 5
}
