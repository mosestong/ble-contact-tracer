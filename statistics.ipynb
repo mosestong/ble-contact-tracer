{
 "cells": [
  {
   "cell_type": "code",
   "execution_count": 2,
   "id": "f16f6a8f",
   "metadata": {},
   "outputs": [
    {
     "ename": "FileNotFoundError",
     "evalue": "[Errno 2] No such file or directory: 'log.csv'",
     "output_type": "error",
     "traceback": [
      "\u001b[31m---------------------------------------------------------------------------\u001b[39m",
      "\u001b[31mFileNotFoundError\u001b[39m                         Traceback (most recent call last)",
      "\u001b[36mCell\u001b[39m\u001b[36m \u001b[39m\u001b[32mIn[2]\u001b[39m\u001b[32m, line 4\u001b[39m\n\u001b[32m      1\u001b[39m \u001b[38;5;28;01mimport\u001b[39;00m\u001b[38;5;250m \u001b[39m\u001b[34;01mcsv\u001b[39;00m\n\u001b[32m      3\u001b[39m \u001b[38;5;66;03m# CSV file will only be the sample measurements\u001b[39;00m\n\u001b[32m----> \u001b[39m\u001b[32m4\u001b[39m \u001b[38;5;28;01mwith\u001b[39;00m \u001b[38;5;28;43mopen\u001b[39;49m\u001b[43m(\u001b[49m\u001b[33;43m'\u001b[39;49m\u001b[33;43mlog.csv\u001b[39;49m\u001b[33;43m'\u001b[39;49m\u001b[43m,\u001b[49m\u001b[43m \u001b[49m\u001b[43mmode\u001b[49m\u001b[43m=\u001b[49m\u001b[33;43m'\u001b[39;49m\u001b[33;43mr\u001b[39;49m\u001b[33;43m'\u001b[39;49m\u001b[43m,\u001b[49m\u001b[43m \u001b[49m\u001b[43mnewline\u001b[49m\u001b[43m=\u001b[49m\u001b[33;43m'\u001b[39;49m\u001b[33;43m'\u001b[39;49m\u001b[43m)\u001b[49m \u001b[38;5;28;01mas\u001b[39;00m file:\n\u001b[32m      5\u001b[39m     reader = csv.DictReader(file)\n\u001b[32m      6\u001b[39m     data_dict = [row \u001b[38;5;28;01mfor\u001b[39;00m row \u001b[38;5;129;01min\u001b[39;00m reader]\n",
      "\u001b[36mFile \u001b[39m\u001b[32mc:\\Users\\moses\\OneDrive - Dalhousie University\\CSCI4270\\project\\CSCI_4270_Final_Project\\env\\Lib\\site-packages\\IPython\\core\\interactiveshell.py:343\u001b[39m, in \u001b[36m_modified_open\u001b[39m\u001b[34m(file, *args, **kwargs)\u001b[39m\n\u001b[32m    336\u001b[39m \u001b[38;5;28;01mif\u001b[39;00m file \u001b[38;5;129;01min\u001b[39;00m {\u001b[32m0\u001b[39m, \u001b[32m1\u001b[39m, \u001b[32m2\u001b[39m}:\n\u001b[32m    337\u001b[39m     \u001b[38;5;28;01mraise\u001b[39;00m \u001b[38;5;167;01mValueError\u001b[39;00m(\n\u001b[32m    338\u001b[39m         \u001b[33mf\u001b[39m\u001b[33m\"\u001b[39m\u001b[33mIPython won\u001b[39m\u001b[33m'\u001b[39m\u001b[33mt let you open fd=\u001b[39m\u001b[38;5;132;01m{\u001b[39;00mfile\u001b[38;5;132;01m}\u001b[39;00m\u001b[33m by default \u001b[39m\u001b[33m\"\u001b[39m\n\u001b[32m    339\u001b[39m         \u001b[33m\"\u001b[39m\u001b[33mas it is likely to crash IPython. If you know what you are doing, \u001b[39m\u001b[33m\"\u001b[39m\n\u001b[32m    340\u001b[39m         \u001b[33m\"\u001b[39m\u001b[33myou can use builtins\u001b[39m\u001b[33m'\u001b[39m\u001b[33m open.\u001b[39m\u001b[33m\"\u001b[39m\n\u001b[32m    341\u001b[39m     )\n\u001b[32m--> \u001b[39m\u001b[32m343\u001b[39m \u001b[38;5;28;01mreturn\u001b[39;00m \u001b[43mio_open\u001b[49m\u001b[43m(\u001b[49m\u001b[43mfile\u001b[49m\u001b[43m,\u001b[49m\u001b[43m \u001b[49m\u001b[43m*\u001b[49m\u001b[43margs\u001b[49m\u001b[43m,\u001b[49m\u001b[43m \u001b[49m\u001b[43m*\u001b[49m\u001b[43m*\u001b[49m\u001b[43mkwargs\u001b[49m\u001b[43m)\u001b[49m\n",
      "\u001b[31mFileNotFoundError\u001b[39m: [Errno 2] No such file or directory: 'log.csv'"
     ]
    }
   ],
   "source": [
    "import csv\n",
    "\n",
    "# CSV file will only be the sample measurements\n",
    "with open('log.csv', mode='r', newline='') as file:\n",
    "    reader = csv.DictReader(file)\n",
    "    data_dict = [row for row in reader]"
   ]
  },
  {
   "cell_type": "code",
   "execution_count": null,
   "id": "f4f5a715",
   "metadata": {},
   "outputs": [],
   "source": [
    "import numpy as np\n",
    "\n",
    "# Descriptive statistics: Mean, median, standard deviation for all quantitative metrics\n",
    "metrics = ['rssi', 'delivery rates', 'delays']\n",
    "\n",
    "for metric in metrics:\n",
    "    values = np.array([float(row[metric]) for row in data_dict if row[metric] != ''])\n",
    "    mean = np.mean(values)\n",
    "    median = np.median(values)\n",
    "    std_dev = np.std(values)\n",
    "    print(f\"{metric}: Mean={mean:.2f}, Median={median:.2f}, Std Dev={std_dev:.2f}\")"
   ]
  },
  {
   "cell_type": "code",
   "execution_count": null,
   "id": "eaa9cd0e",
   "metadata": {},
   "outputs": [],
   "source": [
    "import scipy.stats\n",
    "\n",
    "# 95% Confiedence intevals for all quantitative metrics\n",
    "for metric in metrics:\n",
    "    values = np.array([float(row[metric]) for row in data_dict if row[metric] != ''])\n",
    "    mean = np.mean(values)\n",
    "    std_dev = np.std(values)\n",
    "    n = len(values)\n",
    "    confidence_level = 0.95\n",
    "    z_score = scipy.stats.norm.ppf((1 + confidence_level) / 2)\n",
    "    margin_of_error = z_score * (std_dev / np.sqrt(n))\n",
    "    confidence_interval = (mean - margin_of_error, mean + margin_of_error)\n",
    "    print(f\"{metric} 95% Confidence Interval: {confidence_interval}\")"
   ]
  },
  {
   "cell_type": "code",
   "execution_count": 4,
   "id": "6a45ba30",
   "metadata": {},
   "outputs": [
    {
     "name": "stdout",
     "output_type": "stream",
     "text": [
      "Pearson correlation coefficient between RSSI and distance: -0.90\n"
     ]
    }
   ],
   "source": [
    "import csv\n",
    "import numpy as np\n",
    "# Correlation analysis: Pearson correlation coefficient between RSSI vs. distance\n",
    "\n",
    "with open('plots/rssi_vs_distance.csv', mode='r', newline='') as file:\n",
    "    rssi_reader = csv.DictReader(file)\n",
    "    rssi_data = [row for row in rssi_reader]\n",
    "\n",
    "rssi_values = np.array([float(row['rssi']) for row in rssi_data if row['rssi'] != ''])\n",
    "distance_values = np.array([float(row['distance']) for row in rssi_data if row['distance'] != ''])\n",
    "correlation_coefficient = np.corrcoef(rssi_values, distance_values)[0, 1]\n",
    "print(f\"Pearson correlation coefficient between RSSI and distance: {correlation_coefficient:.2f}\")\n"
   ]
  },
  {
   "cell_type": "code",
   "execution_count": null,
   "id": "697e07a6",
   "metadata": {},
   "outputs": [],
   "source": [
    "# Error Analysis: Quantify measurement uncertainty and error rates\n",
    "# Measured as the deviation from the expected value\n",
    "\n",
    "error_rates = []\n",
    "for row in data_dict:\n",
    "    if row['error_rate'] != '':\n",
    "        error_rates.append(float(row['error_rate']))\n"
   ]
  }
 ],
 "metadata": {
  "kernelspec": {
   "display_name": "env",
   "language": "python",
   "name": "python3"
  },
  "language_info": {
   "codemirror_mode": {
    "name": "ipython",
    "version": 3
   },
   "file_extension": ".py",
   "mimetype": "text/x-python",
   "name": "python",
   "nbconvert_exporter": "python",
   "pygments_lexer": "ipython3",
   "version": "3.12.3"
  }
 },
 "nbformat": 4,
 "nbformat_minor": 5
}
